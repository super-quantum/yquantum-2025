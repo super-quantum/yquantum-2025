{
 "cells": [
  {
   "cell_type": "markdown",
   "id": "53a75edc",
   "metadata": {},
   "source": [
    "As the main goal of this challenge, you are expected to create a hash function based on quantum simulation. Your hash function's performance evaluation will be based on the following criteria:\n",
    "\n",
    "1. Output determinism\n",
    "2. Preservation of entropy\n",
    "3. Computational difficulty\n",
    "4. Preimage resistance\n",
    "5. Collision resistance\n",
    "6. Computational feasibility\n",
    "7. Computation time\n",
    "8. Purely quantum hashing\n",
    "\n",
    "Their meaning will be demonstrated on a simple (and very bad) hash function."
   ]
  },
  {
   "cell_type": "markdown",
   "id": "aec27eff",
   "metadata": {},
   "source": [
    "The following hash function uses one qubit per one byte of input and applies the RX gates with the angles proportional to the bytes' values:"
   ]
  },
  {
   "cell_type": "code",
   "execution_count": null,
   "id": "d8292cf4",
   "metadata": {},
   "outputs": [
    {
     "data": {
      "text/plain": [
       "bytearray(b'\\xe9\\xe8\\x93')"
      ]
     },
     "execution_count": 28,
     "metadata": {},
     "output_type": "execute_result"
    }
   ],
   "source": [
    "from qiskit import QuantumCircuit\n",
    "from qiskit.quantum_info import Pauli, Statevector\n",
    "import numpy as np\n",
    "\n",
    "def simple_quantum_hash(input_bytes: bytes):\n",
    "    num_qubits = len(input_bytes)\n",
    "    qc = QuantumCircuit(num_qubits)\n",
    "    for i in range(num_qubits):\n",
    "        angle = (input_bytes[i] / 255) * np.pi  # scale to [0, π]\n",
    "        qc.rx(angle, i)\n",
    "     \n",
    "    sv = Statevector.from_instruction(qc)\n",
    "    exp_vals = [sv.expectation_value(Pauli(\"Z\"), [i]).real for i in range(num_qubits)]\n",
    "\n",
    "    # Map each expectation value from [-1, 1] to an 8-bit integer in [0, 255].\n",
    "    output_bytes = bytearray([min(int(((val + 1) / 2) * 256), 255) for val in exp_vals])\n",
    "    \n",
    "    return output_bytes\n",
    "\n",
    "\n",
    "# simple_quantum_hash(\"12s\".encode()) THis function takes bytes i.e. simple_quantum_hash(b\"9\")"
   ]
  },
  {
   "cell_type": "markdown",
   "id": "ea0e99f6",
   "metadata": {},
   "source": [
    "At the very least, this function meets 2 of our most straightforward requirements. Firstly, it consistently produces the same output for a given input, satisfying the 'Output determinism' constraint, and, secondly, it does not use any classical hashing algorithms as required by the 'Purely classical hashing' point."
   ]
  },
  {
   "cell_type": "markdown",
   "id": "13e18616",
   "metadata": {},
   "source": [
    "Let's now see what output our hash function produces for some simple inputs:"
   ]
  },
  {
   "cell_type": "code",
   "execution_count": 29,
   "id": "0020447a",
   "metadata": {},
   "outputs": [
    {
     "name": "stdout",
     "output_type": "stream",
     "text": [
      "[255, 252, 240, 222, 198, 170, 139, 108, 78, 50, 28, 11, 2]\n"
     ]
    }
   ],
   "source": [
    "print(list(simple_quantum_hash(bytes(range(0, 260, 20)))))"
   ]
  },
  {
   "cell_type": "markdown",
   "id": "652116ad",
   "metadata": {},
   "source": [
    "As you might've already deduced from the function definition, it basically calculates shifted and quantized cosine value for each of the input bytes. Unfortunately this fails to pass the 'Computational difficulty' requirement, as it is trivial to implement the same function without using any quantum simulators and such function would run in linear time with respect to the input length. This also makes finding the preimage of a given hash output an easy task, making it a cryptographically-poor hash function that is non-compliant with the 'Preimage resistance' criteria."
   ]
  },
  {
   "cell_type": "markdown",
   "id": "03561154",
   "metadata": {},
   "source": [
    "Since the cosine itself is a bijection from the domain of [0, π] to the codomain of [-1, 1] the hash collisions can only be possible due to the quantization. The easiest way to find such collisions is to look at the values closest to the minimum and maximum of a single byte range, where the derivative of the cosine is small:"
   ]
  },
  {
   "cell_type": "code",
   "execution_count": 30,
   "id": "af9b2307",
   "metadata": {},
   "outputs": [
    {
     "name": "stdout",
     "output_type": "stream",
     "text": [
      "[255, 255, 255, 255, 255, 255, 255, 255, 255, 255, 255, 254, 254, 254, 254, 253, 253, 253, 252, 252]\n",
      "[3, 3, 2, 2, 2, 1, 1, 1, 1, 0, 0, 0, 0, 0, 0, 0, 0, 0, 0, 0]\n"
     ]
    }
   ],
   "source": [
    "print(list(simple_quantum_hash(bytes(range(0, 20)))))\n",
    "print(list(simple_quantum_hash(bytes(range(236, 256)))))"
   ]
  },
  {
   "cell_type": "markdown",
   "id": "e3abc295",
   "metadata": {},
   "source": [
    "As you can see, there is plenty of byte collisions to be found in those regions. As a result, using this hash algorithm would result in a higher collision rate when compared to its classical counterparts, making it unsuitable for production applications and failing the 'Collision resistance' constraint."
   ]
  },
  {
   "cell_type": "markdown",
   "id": "29414fb6",
   "metadata": {},
   "source": [
    "The last non-trivial requirement is the 'Preservation of entropy', which our function, yet again, does not pass. The reason for that is simple - the cosine is not a linear function. That means that feeding a large set of randomly-generated inputs to our function would result in its output bytes being more highly concentrated towards their maximum and minimum values (as was previously demonstrated) and failing to behave like a sample from a random distribution over the function's codomain. Furthermore, some of the byte values are not possible to obtain at all due to the quantization:"
   ]
  },
  {
   "cell_type": "code",
   "execution_count": 31,
   "id": "a9020e6f",
   "metadata": {},
   "outputs": [
    {
     "name": "stdout",
     "output_type": "stream",
     "text": [
      "[139, 138, 136, 135, 133, 131, 130, 128, 127, 125, 124, 122, 120, 119, 117]\n"
     ]
    }
   ],
   "source": [
    "print(list(simple_quantum_hash(bytes(range(120, 135)))))"
   ]
  },
  {
   "cell_type": "markdown",
   "id": "1af002aa",
   "metadata": {},
   "source": [
    "Lastly, the provided hash function does not pass the 'Computational feasibility' requirement, since it would require to simulate a 32-qubit circuit to calculate a 256-bit hash, which is not feasible to do on general-purpose hardware. This also makes the 'Computation time' criteria irrelevant, even thogh the function only employs one gate per qubit which would lead to good performance if the number of qubits was decreased."
   ]
  }
 ],
 "metadata": {
  "kernelspec": {
   "display_name": "base",
   "language": "python",
   "name": "python3"
  },
  "language_info": {
   "codemirror_mode": {
    "name": "ipython",
    "version": 3
   },
   "file_extension": ".py",
   "mimetype": "text/x-python",
   "name": "python",
   "nbconvert_exporter": "python",
   "pygments_lexer": "ipython3",
   "version": "3.12.7"
  }
 },
 "nbformat": 4,
 "nbformat_minor": 5
}
